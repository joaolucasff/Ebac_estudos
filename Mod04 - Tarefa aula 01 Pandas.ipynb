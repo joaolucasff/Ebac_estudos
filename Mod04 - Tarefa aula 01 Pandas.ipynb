{
 "cells": [
  {
   "cell_type": "markdown",
   "metadata": {},
   "source": [
    "# Tarefa 01\n",
    "\n",
    "- Leia os enunciados com atenção\n",
    "- Saiba que pode haver mais de uma resposta correta\n",
    "- Insira novas células de código sempre que achar necessário\n",
    "- Em caso de dúvidas, procure os tutores\n",
    "- Divirta-se :)\n",
    "\n",
    "#### 1)  crie uma série do pandas a partir de uma lista com os dados abaixo:\n",
    "\n",
    "Em um estudo sobre alteração na tempreatura global, A NASA disponibiliza dados de diferenças de de temperatura média da superfície terrestre relativos às médias de temperatura entre 1951 e 1980. Os dados originais podem ser vistos no site da NASA/GISS, e estão dispostos a cada década na tabela abaixo.\n",
    "\n",
    "|ano|anomalia termica|\n",
    "|:-:|:----:|\n",
    "| 1900 | -0.08 |\n",
    "| 1920 | -0.27 |\n",
    "| 1940 | 0.12 |\n",
    "| 1960 | -0.03 |\n",
    "| 1980 | 0.26 |\n",
    "| 2000 | 0.40 |\n",
    "| 2020 | 1.02 |\n",
    "\n",
    "Crie uma séries do Pandas a partir de uma lista com esses dados."
   ]
  },
  {
   "cell_type": "code",
   "execution_count": 2,
   "metadata": {},
   "outputs": [
    {
     "name": "stdout",
     "output_type": "stream",
     "text": [
      "0    -0.08\n",
      "1    -0.27\n",
      "2     0.12\n",
      "3    -0.03\n",
      "4     0.26\n",
      "5     0.40\n",
      "6     1.02\n",
      "dtype: object\n"
     ]
    }
   ],
   "source": [
    "import pandas as pd\n",
    "import numpy as np\n",
    "\n",
    "# Seu código aqui\n",
    "dados = ['-0.08', '-0.27','0.12', '-0.03', '0.26', '0.40', '1.02']\n",
    "dados = pd.Series(data = dados)\n",
    "print(dados)"
   ]
  },
  {
   "cell_type": "markdown",
   "metadata": {},
   "source": [
    "#### 2) Coloque os anos nos índices conforme a tabela."
   ]
  },
  {
   "cell_type": "code",
   "execution_count": 4,
   "metadata": {},
   "outputs": [
    {
     "name": "stdout",
     "output_type": "stream",
     "text": [
      "1900    -0.08\n",
      "1920    -0.27\n",
      "1940     0.12\n",
      "1960    -0.03\n",
      "1980     0.26\n",
      "2000     0.40\n",
      "2020     1.02\n",
      "dtype: object\n"
     ]
    }
   ],
   "source": [
    "\n",
    "# seu código aqui\n",
    "dados = ['-0.08', '-0.27','0.12', '-0.03', '0.26', '0.40', '1.02']\n",
    "indice = ['1900', '1920', '1940', '1960', '1980', '2000', '2020']\n",
    "dados = pd.Series(data =dados, index = indice)\n",
    "print(dados)"
   ]
  },
  {
   "cell_type": "markdown",
   "metadata": {},
   "source": [
    "#### 3) A partir do dicionário abaixo, crie uma séries do Pandas:"
   ]
  },
  {
   "cell_type": "code",
   "execution_count": 5,
   "metadata": {},
   "outputs": [
    {
     "name": "stdout",
     "output_type": "stream",
     "text": [
      "1900   -0.08\n",
      "1920   -0.27\n",
      "1940    0.12\n",
      "1960   -0.03\n",
      "1980    0.26\n",
      "2000    0.40\n",
      "2020    1.02\n",
      "dtype: float64\n"
     ]
    }
   ],
   "source": [
    "dic_temperaturas = {1900: -.08, 1920: -.27, 1940: .12, 1960: -.03, 1980: .26, 2000: .40, 2020: 1.02}\n",
    "\n",
    "# seu código aqui\n",
    "\n",
    "dic_temperaturas_series = pd.Series(dic_temperaturas)\n",
    "print(dic_temperaturas_series)"
   ]
  },
  {
   "cell_type": "markdown",
   "metadata": {},
   "source": [
    "#### 4) Transforme o ndarray abaixo em um dataframe. \n",
    "O numpy é capaz de gerar arrays n-dimensionais com números pseudo-aleatórios de acordo com uma variedade de distribuições, como no exemplo abaixo. Transforme esse nd-array em um DataFrame."
   ]
  },
  {
   "cell_type": "code",
   "execution_count": 10,
   "metadata": {},
   "outputs": [
    {
     "name": "stdout",
     "output_type": "stream",
     "text": [
      "<class 'pandas.core.frame.DataFrame'>\n"
     ]
    }
   ],
   "source": [
    "arr = np.random.normal(100, 10, (20,3))\n",
    "    \n",
    "\n",
    "# seu código aqui\n",
    "arr = pd.DataFrame\n",
    "#print(arr)"
   ]
  },
  {
   "cell_type": "markdown",
   "metadata": {},
   "source": [
    "#### 5) Nomeie os índices das linhas com inteiros de 1 a 20, e as colunas com os nomes \"x1\", \"x2\", e \"x3\" respectivamente."
   ]
  },
  {
   "cell_type": "code",
   "execution_count": 82,
   "metadata": {},
   "outputs": [
    {
     "name": "stdout",
     "output_type": "stream",
     "text": [
      "    x1  x2  x3\n",
      "1    1   2   3\n",
      "2    4   5   6\n",
      "3    7   8   9\n",
      "4   10  11  12\n",
      "5   13  14  15\n",
      "6   16  17  18\n",
      "7   19  20  21\n",
      "8   22  23  24\n",
      "9   25  26  27\n",
      "10  28  29  30\n",
      "11  31  32  33\n",
      "12  34  35  36\n",
      "13  37  38  39\n",
      "14  40  41  42\n",
      "15  43  44  45\n",
      "16  46  47  48\n",
      "17  49  50  51\n",
      "18  52  53  54\n",
      "19  55  56  57\n",
      "20  58  59  60\n"
     ]
    }
   ],
   "source": [
    "#seu código aqui\n",
    "#df = pd.DataFrame({'numeros': linhas})\n",
    "#print(linhas)\n",
    "\n",
    "#colunas = [f\"x{i}\" for i in range(1, 21)]\n",
    "#linhas = list(range(1,21))\n",
    "#df.colunas = pd.DataFrame({'columns': colunas})\n",
    "#df_final = pd.DataFrame({'numeros': linhas, 'columns': colunas})\n",
    "#display(df_final)\n",
    "\n",
    "import pandas as pd\n",
    "\n",
    "# Criação de um DataFrame de exemplo\n",
    "data = [[1, 2, 3],\n",
    "        [4, 5, 6],\n",
    "        [7, 8, 9],\n",
    "        [10, 11, 12],\n",
    "        [13, 14, 15],\n",
    "        [16, 17, 18],\n",
    "        [19, 20, 21],\n",
    "        [22, 23, 24],\n",
    "        [25, 26, 27],\n",
    "        [28, 29, 30],\n",
    "        [31, 32, 33],\n",
    "        [34, 35, 36],\n",
    "        [37, 38, 39],\n",
    "        [40, 41, 42],\n",
    "        [43, 44, 45],\n",
    "        [46, 47, 48],\n",
    "        [49, 50, 51],\n",
    "        [52, 53, 54],\n",
    "        [55, 56, 57],\n",
    "        [58, 59, 60]]\n",
    "\n",
    "# Convertendo para DataFrame\n",
    "df = pd.DataFrame(data)\n",
    "\n",
    "# Nomeando os índices das linhas com inteiros de 1 a 20\n",
    "df.index = range(1, 21)\n",
    "\n",
    "# Nomeando as colunas com \"x1\", \"x2\", e \"x3\"\n",
    "df.columns = [\"x1\", \"x2\", \"x3\"]\n",
    "\n",
    "# Exibindo o DataFrame resultante\n",
    "print(df)\n",
    "\n",
    "\n"
   ]
  },
  {
   "cell_type": "markdown",
   "metadata": {},
   "source": [
    "#### 6) No DataFrame do exercício 5, crie uma nova coluna como sendo a média das três colunas, e dê a ela o nome de \"media\" (não recomendo colocar acentos em nomes de variáveis)."
   ]
  },
  {
   "cell_type": "code",
   "execution_count": null,
   "metadata": {},
   "outputs": [
    {
     "name": "stdout",
     "output_type": "stream",
     "text": [
      "    x1  x2  x3  media   log_med\n",
      "1    1   2   3    2.0  0.693147\n",
      "2    4   5   6    5.0  1.609438\n",
      "3    7   8   9    8.0  2.079442\n",
      "4   10  11  12   11.0  2.397895\n",
      "5   13  14  15   14.0  2.639057\n",
      "6   16  17  18   17.0  2.833213\n",
      "7   19  20  21   20.0  2.995732\n",
      "8   22  23  24   23.0  3.135494\n",
      "9   25  26  27   26.0  3.258097\n",
      "10  28  29  30   29.0  3.367296\n",
      "11  31  32  33   32.0  3.465736\n",
      "12  34  35  36   35.0  3.555348\n",
      "13  37  38  39   38.0  3.637586\n",
      "14  40  41  42   41.0  3.713572\n",
      "15  43  44  45   44.0  3.784190\n",
      "16  46  47  48   47.0  3.850148\n",
      "17  49  50  51   50.0  3.912023\n",
      "18  52  53  54   53.0  3.970292\n",
      "19  55  56  57   56.0  4.025352\n",
      "20  58  59  60   59.0  4.077537\n"
     ]
    }
   ],
   "source": [
    "#maneira 1 de calcular a média\n",
    "df['media'] = (df['x1'] + df['x2'] + df ['x3']) / 3\n",
    "print(df)\n",
    "\n",
    "\n"
   ]
  },
  {
   "cell_type": "markdown",
   "metadata": {},
   "source": [
    "#### 7) No DataFrame do exercício 6, crie uma nova coluna chamada \"log_med\", contendo o logaritmo natural da média calculada no exercício 6 <br>"
   ]
  },
  {
   "cell_type": "code",
   "execution_count": 105,
   "metadata": {},
   "outputs": [
    {
     "name": "stdout",
     "output_type": "stream",
     "text": [
      "    x1  x2  x3  media   log_med\n",
      "1    1   2   3    2.0  0.693147\n",
      "2    4   5   6    5.0  1.609438\n",
      "3    7   8   9    8.0  2.079442\n",
      "4   10  11  12   11.0  2.397895\n",
      "5   13  14  15   14.0  2.639057\n",
      "6   16  17  18   17.0  2.833213\n",
      "7   19  20  21   20.0  2.995732\n",
      "8   22  23  24   23.0  3.135494\n",
      "9   25  26  27   26.0  3.258097\n",
      "10  28  29  30   29.0  3.367296\n",
      "11  31  32  33   32.0  3.465736\n",
      "12  34  35  36   35.0  3.555348\n",
      "13  37  38  39   38.0  3.637586\n",
      "14  40  41  42   41.0  3.713572\n",
      "15  43  44  45   44.0  3.784190\n",
      "16  46  47  48   47.0  3.850148\n",
      "17  49  50  51   50.0  3.912023\n",
      "18  52  53  54   53.0  3.970292\n",
      "19  55  56  57   56.0  4.025352\n",
      "20  58  59  60   59.0  4.077537\n"
     ]
    }
   ],
   "source": [
    "#maneira 2 de calcular a média e adcionando o logaritmo natural\n",
    "\n",
    "df['media'] = df[['x1', 'x2', 'x3']].mean(axis=1)\n",
    "\n",
    "# Adicionando a coluna \"log_med\" com o logaritmo natural da média\n",
    "df['log_med'] = np.log(df['media'])\n",
    "\n",
    "# Exibindo o DataFrame resultante\n",
    "print(df)"
   ]
  }
 ],
 "metadata": {
  "kernelspec": {
   "display_name": "Python 3",
   "language": "python",
   "name": "python3"
  },
  "language_info": {
   "codemirror_mode": {
    "name": "ipython",
    "version": 3
   },
   "file_extension": ".py",
   "mimetype": "text/x-python",
   "name": "python",
   "nbconvert_exporter": "python",
   "pygments_lexer": "ipython3",
   "version": "3.12.6"
  }
 },
 "nbformat": 4,
 "nbformat_minor": 4
}
